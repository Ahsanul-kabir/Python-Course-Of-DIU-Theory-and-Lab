{
 "cells": [
  {
   "cell_type": "markdown",
   "metadata": {
    "colab_type": "text",
    "id": "UekDxd4Bss9c"
   },
   "source": [
    "# Syntax of creating ***python class***"
   ]
  },
  {
   "cell_type": "code",
   "execution_count": 2,
   "metadata": {
    "colab": {},
    "colab_type": "code",
    "id": "60tuubKKqsYS"
   },
   "outputs": [],
   "source": [
    "class NameOfClass():\n",
    "  def __init__(self, parameter1, parameter2):\n",
    "    self.parameter1 = parameter1\n",
    "    self.parameter2 = parameter2\n",
    "  \n",
    "  def someMethod(self):\n",
    "    #perfrom some action \n",
    "    print(self.parameter1)"
   ]
  },
  {
   "cell_type": "markdown",
   "metadata": {
    "colab_type": "text",
    "id": "oVcT3nsetl1c"
   },
   "source": [
    "# Create a ***Animal class*** "
   ]
  },
  {
   "cell_type": "code",
   "execution_count": 8,
   "metadata": {
    "colab": {},
    "colab_type": "code",
    "id": "5M8P8ovKtk-Q"
   },
   "outputs": [],
   "source": [
    "class Animal():\n",
    "  def __init__(self, name, colour):\n",
    "    #arrtibute\n",
    "    #we take in the argument\n",
    "    #assgin it using self.arrtibute_name \n",
    "    self.name = name\n",
    "    self.colour = colour\n",
    "  def running(self):\n",
    "    print(f'hey! i am {self.name}, now i am running!')\n",
    "  def drinkingMilk(self):\n",
    "    print(f'hey! i am {self.name}, now i am drinking mlik!')"
   ]
  },
  {
   "cell_type": "markdown",
   "metadata": {
    "colab_type": "text",
    "id": "GfEIx116xH-U"
   },
   "source": [
    "# Create ***object*** "
   ]
  },
  {
   "cell_type": "code",
   "execution_count": 9,
   "metadata": {
    "colab": {},
    "colab_type": "code",
    "id": "bHusC_2exGQc"
   },
   "outputs": [],
   "source": [
    "tom=Animal('tom', 'gray')\n",
    "jerry=Animal('jerry', 'browon')"
   ]
  },
  {
   "cell_type": "markdown",
   "metadata": {
    "colab_type": "text",
    "id": "6YorbSpczZJj"
   },
   "source": [
    "# Understanding ***object attribute***"
   ]
  },
  {
   "cell_type": "code",
   "execution_count": null,
   "metadata": {
    "colab": {},
    "colab_type": "code",
    "id": "EJW4c6_6yB0u"
   },
   "outputs": [],
   "source": [
    "print(f'hey! i am {tom.name} and my colour is: {tom.colour}')\n",
    "print(f'hey! i am {jerry.name} and my colour is: {jerry.colour}')"
   ]
  },
  {
   "cell_type": "markdown",
   "metadata": {
    "colab_type": "text",
    "id": "zEF3UnJu1S_Y"
   },
   "source": [
    "# Understanding ***object behaviour***"
   ]
  },
  {
   "cell_type": "code",
   "execution_count": null,
   "metadata": {
    "colab": {},
    "colab_type": "code",
    "id": "N5QbwtRI0VU9"
   },
   "outputs": [],
   "source": [
    "#print tom behaviour\n",
    "tom.running()\n",
    "tom.drinkingMilk()\n",
    "\n",
    "#print jerry behaviour\n",
    "jerry.running()\n",
    "jerry.drinkingMilk()"
   ]
  },
  {
   "cell_type": "markdown",
   "metadata": {
    "colab_type": "text",
    "id": "t0cOQ9NJRh5W"
   },
   "source": [
    "# The ***self Parameter***\n",
    "1.   The **self** parameter is a reference to the current instance of the class, and is used to access variables that belongs to the class.\n",
    "2.   It does not have to be named self , you can call it whatever you like, but it has to be **the first parameter of any function in the class**."
   ]
  },
  {
   "cell_type": "code",
   "execution_count": 3,
   "metadata": {
    "colab": {
     "base_uri": "https://localhost:8080/",
     "height": 54
    },
    "colab_type": "code",
    "id": "x4l5ekSY13JZ",
    "outputId": "06b254c3-a252-44d0-d18d-62cf0848e41b"
   },
   "outputs": [
    {
     "name": "stdout",
     "output_type": "stream",
     "text": [
      "hey! i am tom and my colour is: gray\n",
      "hey! i am jerry and my colour is: browon\n"
     ]
    }
   ],
   "source": [
    "#create class\n",
    "class Animal():\n",
    "  def __init__(self, objectName, objectColour):\n",
    "    #arrtibute\n",
    "    #we take in the argument\n",
    "    #assgin it using self.arrtibute_name \n",
    "    self.name = objectName\n",
    "    self.colour = objectColour\n",
    "\n",
    "#create object\n",
    "tom=Animal('tom', 'gray')\n",
    "jerry=Animal('jerry', 'browon')\n",
    "\n",
    "#printing object attribute, object attribute access with name and colour. \n",
    "print(f'hey! i am {tom.name} and my colour is: {tom.colour}')\n",
    "print(f'hey! i am {jerry.name} and my colour is: {jerry.colour}')"
   ]
  },
  {
   "cell_type": "code",
   "execution_count": null,
   "metadata": {
    "colab": {},
    "colab_type": "code",
    "id": "AbHRyYgmT4Dq"
   },
   "outputs": [],
   "source": [
    "#create class\n",
    "class Animal():\n",
    "  def __init__(this, objectName, objectColour):\n",
    "    #arrtibute\n",
    "    #we take in the argument\n",
    "    #assgin it using this.arrtibute_name \n",
    "    this.name = objectName\n",
    "    this.colour = objectColour\n",
    "\n",
    "#create object\n",
    "tom=Animal('tom', 'gray')\n",
    "jerry=Animal('jerry', 'browon')\n",
    "\n",
    "#printing object attribute, object attribute access with name and colour. \n",
    "print(f'hey! i am {tom.name} and my colour is: {tom.colour}')\n",
    "print(f'hey! i am {jerry.name} and my colour is: {jerry.colour}')"
   ]
  },
  {
   "cell_type": "markdown",
   "metadata": {
    "colab_type": "text",
    "id": "U6F8pXaEXWU4"
   },
   "source": [
    "# The __init__() Function\n",
    "\n",
    "1.   The __init__() function is called automatically every time the class is being used to create a new object.\n",
    "2.   All classes have a function called __init__(), which is always executed when the class is being initiated.\n"
   ]
  },
  {
   "cell_type": "code",
   "execution_count": null,
   "metadata": {
    "colab": {},
    "colab_type": "code",
    "id": "qWKjIUNLVGdD"
   },
   "outputs": [],
   "source": [
    "#create class\n",
    "class Animal():\n",
    "  def __init__(self):\n",
    "    print(f'hello! i am init()!')\n",
    "\n",
    "#create object\n",
    "tom=Animal()"
   ]
  },
  {
   "cell_type": "markdown",
   "metadata": {
    "colab_type": "text",
    "id": "RNh05kEBakMZ"
   },
   "source": [
    "# Class ***object Attribute***\n",
    "this attribute same for any instance of class"
   ]
  },
  {
   "cell_type": "code",
   "execution_count": null,
   "metadata": {
    "colab": {},
    "colab_type": "code",
    "id": "qPYN7DnuZMZb"
   },
   "outputs": [],
   "source": [
    "#create class \n",
    "class Animal():\n",
    "  #class object attribute\n",
    "  #same for any instance of class\n",
    "  species = 'mammal'\n",
    "  def __init__(self, name, colour):\n",
    "    #arrtibute\n",
    "    #we take in the argument\n",
    "    #assgin it using self.arrtibute_name \n",
    "    self.name = name\n",
    "    self.colour = colour\n",
    "\n",
    "#create object\n",
    "tom=Animal('tom', 'gray')\n",
    "jerry=Animal('jerry', 'browon')\n",
    "\n",
    "#print object attribute \n",
    "print(tom.species)\n",
    "print(jerry.species)"
   ]
  },
  {
   "cell_type": "code",
   "execution_count": null,
   "metadata": {
    "colab": {},
    "colab_type": "code",
    "id": "6zkYrCMFcqlY"
   },
   "outputs": [],
   "source": []
  }
 ],
 "metadata": {
  "colab": {
   "collapsed_sections": [],
   "name": "week_7_OOP_python.ipynb",
   "provenance": []
  },
  "kernelspec": {
   "display_name": "Python 3",
   "language": "python",
   "name": "python3"
  },
  "language_info": {
   "codemirror_mode": {
    "name": "ipython",
    "version": 3
   },
   "file_extension": ".py",
   "mimetype": "text/x-python",
   "name": "python",
   "nbconvert_exporter": "python",
   "pygments_lexer": "ipython3",
   "version": "3.7.9"
  }
 },
 "nbformat": 4,
 "nbformat_minor": 1
}
