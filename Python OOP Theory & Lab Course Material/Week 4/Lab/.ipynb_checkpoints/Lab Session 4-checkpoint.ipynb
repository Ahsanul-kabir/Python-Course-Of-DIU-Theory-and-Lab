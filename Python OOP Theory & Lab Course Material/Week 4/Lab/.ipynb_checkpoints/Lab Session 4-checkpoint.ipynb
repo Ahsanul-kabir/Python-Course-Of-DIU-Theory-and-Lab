{
 "cells": [
  {
   "cell_type": "code",
   "execution_count": 1,
   "metadata": {
    "colab": {
     "base_uri": "https://localhost:8080/",
     "height": 69
    },
    "colab_type": "code",
    "id": "dv5fgiINPQhy",
    "outputId": "44397f4e-69d5-4259-cd14-ef86c659492b"
   },
   "outputs": [
    {
     "name": "stdout",
     "output_type": "stream",
     "text": [
      "[1, 2, 3, 32, 2.23, 43.23, 'python', [2, 32, 3]]\n",
      "[]\n",
      "[]\n"
     ]
    }
   ],
   "source": [
    "#creating list\n",
    "\n",
    "lst0=[1,2,3,32,2.23,43.23,\"python\",[2,32,3]]\n",
    "print(lst0)\n",
    "lst1=[]\n",
    "print(lst1)\n",
    "lst2=list()\n",
    "print(lst2)"
   ]
  },
  {
   "cell_type": "code",
   "execution_count": 2,
   "metadata": {
    "colab": {
     "base_uri": "https://localhost:8080/",
     "height": 34
    },
    "colab_type": "code",
    "id": "OzhLaNmjPibF",
    "outputId": "b4b0f02a-a513-4baa-a066-86ed1a1e5c86"
   },
   "outputs": [
    {
     "name": "stdout",
     "output_type": "stream",
     "text": [
      "1 2 3 32 2.23 43.23 python [2, 32, 3] \n"
     ]
    }
   ],
   "source": [
    "#iterating list\n",
    "\n",
    "lst0=[1,2,3,32,2.23,43.23,\"python\",[2,32,3]]\n",
    "for i in lst0:\n",
    "    print(i,end=' ')\n",
    "print('')"
   ]
  },
  {
   "cell_type": "code",
   "execution_count": 3,
   "metadata": {
    "colab": {
     "base_uri": "https://localhost:8080/",
     "height": 255
    },
    "colab_type": "code",
    "id": "KNxT03XVQl1s",
    "outputId": "c279775f-d3ff-4e8a-aefd-dce591c37910"
   },
   "outputs": [
    {
     "name": "stdout",
     "output_type": "stream",
     "text": [
      "3\n",
      "python\n",
      "python\n"
     ]
    },
    {
     "ename": "IndexError",
     "evalue": "ignored",
     "output_type": "error",
     "traceback": [
      "\u001b[0;31m---------------------------------------------------------------------------\u001b[0m",
      "\u001b[0;31mIndexError\u001b[0m                                Traceback (most recent call last)",
      "\u001b[0;32m<ipython-input-3-8442c32eaef1>\u001b[0m in \u001b[0;36m<module>\u001b[0;34m()\u001b[0m\n\u001b[1;32m      5\u001b[0m \u001b[0mprint\u001b[0m\u001b[0;34m(\u001b[0m\u001b[0mlst0\u001b[0m\u001b[0;34m[\u001b[0m\u001b[0;36m6\u001b[0m\u001b[0;34m]\u001b[0m\u001b[0;34m)\u001b[0m\u001b[0;34m\u001b[0m\u001b[0;34m\u001b[0m\u001b[0m\n\u001b[1;32m      6\u001b[0m \u001b[0mprint\u001b[0m\u001b[0;34m(\u001b[0m\u001b[0mlst0\u001b[0m\u001b[0;34m[\u001b[0m\u001b[0;34m-\u001b[0m\u001b[0;36m2\u001b[0m\u001b[0;34m]\u001b[0m\u001b[0;34m)\u001b[0m\u001b[0;34m\u001b[0m\u001b[0;34m\u001b[0m\u001b[0m\n\u001b[0;32m----> 7\u001b[0;31m \u001b[0mprint\u001b[0m\u001b[0;34m(\u001b[0m\u001b[0mlst0\u001b[0m\u001b[0;34m[\u001b[0m\u001b[0;34m-\u001b[0m\u001b[0;36m10\u001b[0m\u001b[0;34m]\u001b[0m\u001b[0;34m)\u001b[0m\u001b[0;34m\u001b[0m\u001b[0;34m\u001b[0m\u001b[0m\n\u001b[0m",
      "\u001b[0;31mIndexError\u001b[0m: list index out of range"
     ]
    }
   ],
   "source": [
    "#iterating list\n",
    "\n",
    "lst0=[1,2,3,32,2.23,43.23,\"python\",[2,32,3]]\n",
    "print(lst0[2])\n",
    "print(lst0[6])\n",
    "print(lst0[-2])\n",
    "print(lst0[-10])"
   ]
  },
  {
   "cell_type": "code",
   "execution_count": 4,
   "metadata": {
    "colab": {
     "base_uri": "https://localhost:8080/",
     "height": 173
    },
    "colab_type": "code",
    "id": "068-O8s6RPqT",
    "outputId": "a839b65c-722a-44e2-f618-a6e284f3c7a9"
   },
   "outputs": [
    {
     "name": "stdout",
     "output_type": "stream",
     "text": [
      "8\n",
      "[1, 2, 3, 32, 2.23, 43.23, 'python', [2, 32, 3], [12, 2, 12, 2]]\n",
      "[1, 2, 'pandas', 3, 32, 2.23, 43.23, 'python', [2, 32, 3], [12, 2, 12, 2]]\n",
      "[1, 2, 'pandas', 32, 2.23, 43.23, 'python', [2, 32, 3], [12, 2, 12, 2]]\n",
      "6\n",
      "1\n",
      "None\n",
      "[[12, 2, 12, 2], [2, 32, 3], 'python', 43.23, 2.23, 32, 'pandas', 2, 1]\n",
      "[]\n"
     ]
    }
   ],
   "source": [
    "#List operations\n",
    "\n",
    "lst0=[1,2,3,32,2.23,43.23,\"python\",[2,32,3]]\n",
    "\n",
    "print(len(lst0))                #len( ) gives the length of the list\n",
    "\n",
    "lst0.append([12,2,12,2])        #append( ) inserts an element to the end of the list\n",
    "print(lst0)\n",
    "\n",
    "lst0.insert(2,\"pandas\")         #insert( ) insertes an element on a given index\n",
    "print(lst0)\n",
    "\n",
    "lst0.remove(3)                  #remove( ) removes first occurence of an element\n",
    "print(lst0)\n",
    "\n",
    "print(lst0.index(\"python\"))     #index( ) returns index of first occurence of an element\n",
    "\n",
    "print(lst0.count('pandas'))     #count( ) reuturns the number of occurence of an element\n",
    "\n",
    "print(lst0.reverse())           #reverse( ) makes a reverse list\n",
    "\n",
    "lst1=lst0.copy()                #copy( ) makes a copy of list\n",
    "print(lst1)\n",
    "\n",
    "lst0.clear()                    #clear( ) makes the list empty\n",
    "print(lst0)"
   ]
  },
  {
   "cell_type": "code",
   "execution_count": 5,
   "metadata": {
    "colab": {
     "base_uri": "https://localhost:8080/",
     "height": 86
    },
    "colab_type": "code",
    "id": "Efc_Q8FCU1RZ",
    "outputId": "8fef7398-6570-4fdc-fb78-900a86f6ddf0"
   },
   "outputs": [
    {
     "name": "stdout",
     "output_type": "stream",
     "text": [
      "[3, 32, 2.23, 43.23, 'python']\n",
      "[3, 32, 2.23, 43.23, 'python', [2, 32, 3]]\n",
      "[1, 2, 3, 32, 2.23]\n",
      "[1, 2, 3, 32, 2.23, 43.23, 'python', [2, 32, 3]]\n"
     ]
    }
   ],
   "source": [
    "#lsit slicing\n",
    "\n",
    "lst0=[1,2,3,32,2.23,43.23,\"python\",[2,32,3]]\n",
    "\n",
    "print(lst0[2:7])\n",
    "print(lst0[2:])\n",
    "print(lst0[:5])\n",
    "print(lst0[:])"
   ]
  },
  {
   "cell_type": "code",
   "execution_count": 6,
   "metadata": {
    "colab": {
     "base_uri": "https://localhost:8080/",
     "height": 69
    },
    "colab_type": "code",
    "id": "VcznBtQPWFD1",
    "outputId": "e7635a08-f4f1-40ad-a29a-75dd0ebe2b4f"
   },
   "outputs": [
    {
     "name": "stdout",
     "output_type": "stream",
     "text": [
      "[1, 2, 2, 2, 2, 4, 4, 4, 4, 5, 6, 7]\n",
      "[1, 2, 4, 2, 4, 2, 4, 2, 5, 6, 7, 4]\n",
      "[1, 2, 2, 2, 2, 4, 4, 4, 4, 5, 6, 7]\n"
     ]
    }
   ],
   "source": [
    "#list sorting\n",
    "\n",
    "lst2=[1,2,4,2,4,2,4,2,5,6,7,4]\n",
    "\n",
    "lst3=sorted(lst2)\n",
    "print(lst3)\n",
    "print(lst2)\n",
    "lst2.sort()\n",
    "print(lst2)"
   ]
  },
  {
   "cell_type": "code",
   "execution_count": 7,
   "metadata": {
    "colab": {
     "base_uri": "https://localhost:8080/",
     "height": 69
    },
    "colab_type": "code",
    "id": "CsnsqMPsWn6m",
    "outputId": "a2e558e2-b8d6-4bac-c6fe-82f0712b1fbf"
   },
   "outputs": [
    {
     "name": "stdout",
     "output_type": "stream",
     "text": [
      "(1, 2, 3, 32, 2.23, 43.23, 'python', [2, 32, 3])\n",
      "()\n",
      "()\n"
     ]
    }
   ],
   "source": [
    "#creating tuple\n",
    "\n",
    "tp0=(1,2,3,32,2.23,43.23,\"python\",[2,32,3])\n",
    "print(tp0)\n",
    "tp1=()\n",
    "print(tp1)\n",
    "tp2=tuple()\n",
    "print(tp2)"
   ]
  },
  {
   "cell_type": "code",
   "execution_count": 8,
   "metadata": {
    "colab": {
     "base_uri": "https://localhost:8080/",
     "height": 34
    },
    "colab_type": "code",
    "id": "zqLQKHBrXNxY",
    "outputId": "9f4b7606-875e-463b-e9e3-be62a15b8021"
   },
   "outputs": [
    {
     "name": "stdout",
     "output_type": "stream",
     "text": [
      "1 2 3 32 2.23 43.23 python [2, 32, 3] \n"
     ]
    }
   ],
   "source": [
    "#iterating tuple\n",
    "\n",
    "tp0=(1,2,3,32,2.23,43.23,\"python\",[2,32,3])\n",
    "for i in tp0:\n",
    "    print(i,end=' ')\n",
    "print('')"
   ]
  },
  {
   "cell_type": "code",
   "execution_count": 9,
   "metadata": {
    "colab": {
     "base_uri": "https://localhost:8080/",
     "height": 255
    },
    "colab_type": "code",
    "id": "KZUEXf9KXyFq",
    "outputId": "b994154e-ddd3-429a-8c78-f4b96de804a7"
   },
   "outputs": [
    {
     "name": "stdout",
     "output_type": "stream",
     "text": [
      "3\n",
      "python\n"
     ]
    },
    {
     "ename": "NameError",
     "evalue": "ignored",
     "output_type": "error",
     "traceback": [
      "\u001b[0;31m---------------------------------------------------------------------------\u001b[0m",
      "\u001b[0;31mNameError\u001b[0m                                 Traceback (most recent call last)",
      "\u001b[0;32m<ipython-input-9-bd0c47aa3434>\u001b[0m in \u001b[0;36m<module>\u001b[0;34m()\u001b[0m\n\u001b[1;32m      4\u001b[0m \u001b[0mprint\u001b[0m\u001b[0;34m(\u001b[0m\u001b[0mtp0\u001b[0m\u001b[0;34m[\u001b[0m\u001b[0;36m2\u001b[0m\u001b[0;34m]\u001b[0m\u001b[0;34m)\u001b[0m\u001b[0;34m\u001b[0m\u001b[0;34m\u001b[0m\u001b[0m\n\u001b[1;32m      5\u001b[0m \u001b[0mprint\u001b[0m\u001b[0;34m(\u001b[0m\u001b[0mtp0\u001b[0m\u001b[0;34m[\u001b[0m\u001b[0;36m6\u001b[0m\u001b[0;34m]\u001b[0m\u001b[0;34m)\u001b[0m\u001b[0;34m\u001b[0m\u001b[0;34m\u001b[0m\u001b[0m\n\u001b[0;32m----> 6\u001b[0;31m \u001b[0mprint\u001b[0m\u001b[0;34m(\u001b[0m\u001b[0mtp\u001b[0m\u001b[0;34m[\u001b[0m\u001b[0;34m-\u001b[0m\u001b[0;36m2\u001b[0m\u001b[0;34m]\u001b[0m\u001b[0;34m)\u001b[0m\u001b[0;34m\u001b[0m\u001b[0;34m\u001b[0m\u001b[0m\n\u001b[0m\u001b[1;32m      7\u001b[0m \u001b[0mprint\u001b[0m\u001b[0;34m(\u001b[0m\u001b[0mtp\u001b[0m\u001b[0;34m[\u001b[0m\u001b[0;34m-\u001b[0m\u001b[0;36m10\u001b[0m\u001b[0;34m]\u001b[0m\u001b[0;34m)\u001b[0m\u001b[0;34m\u001b[0m\u001b[0;34m\u001b[0m\u001b[0m\n",
      "\u001b[0;31mNameError\u001b[0m: name 'tp' is not defined"
     ]
    }
   ],
   "source": [
    "#iterating tuple\n",
    "\n",
    "tp0=(1,2,3,32,2.23,43.23,\"python\",[2,32,3])\n",
    "print(tp0[2])\n",
    "print(tp0[6])\n",
    "print(tp[-2])\n",
    "print(tp[-10])"
   ]
  },
  {
   "cell_type": "code",
   "execution_count": 10,
   "metadata": {
    "colab": {
     "base_uri": "https://localhost:8080/",
     "height": 34
    },
    "colab_type": "code",
    "id": "J0R9_6tYYU6j",
    "outputId": "d22718b2-fc32-4f6a-acf0-4cb7007332b2"
   },
   "outputs": [
    {
     "name": "stdout",
     "output_type": "stream",
     "text": [
      "(1, 2, 3, 32, 2.23, 43.23, 'python', [2, 32, 3], 'pandas', 232, 3, 232, 3)\n"
     ]
    }
   ],
   "source": [
    "#inserting into tuple\n",
    "\n",
    "tp0=(1,2,3,32,2.23,43.23,\"python\",[2,32,3])\n",
    "tp0+=(\"pandas\",232,3,232,3)\n",
    "print(tp0)"
   ]
  },
  {
   "cell_type": "code",
   "execution_count": 2,
   "metadata": {
    "tags": []
   },
   "outputs": [
    {
     "name": "stdout",
     "output_type": "stream",
     "text": [
      "(&#39;apple&#39;, &#39;kiwi&#39;, &#39;cherry&#39;)\n"
     ]
    }
   ],
   "source": [
    "# insetr in tuple \n",
    "x = (\"apple\", \"banana\", \"cherry\")\n",
    "y = list(x)\n",
    "y[1] = \"kiwi\"\n",
    "x = tuple(y)\n",
    "\n",
    "print(x)"
   ]
  },
  {
   "cell_type": "code",
   "execution_count": 11,
   "metadata": {
    "colab": {
     "base_uri": "https://localhost:8080/",
     "height": 86
    },
    "colab_type": "code",
    "id": "ZWp59vSEZfJJ",
    "outputId": "9f225f72-6b3a-4842-ed3a-95ac2a173f35"
   },
   "outputs": [
    {
     "name": "stdout",
     "output_type": "stream",
     "text": [
      "2\n",
      "3\n",
      "423\n",
      "43\n"
     ]
    }
   ],
   "source": [
    "#unpacking sequences\n",
    "\n",
    "lst=[2,3,423,43]\n",
    "a,b,c,d=lst\n",
    "print(a)\n",
    "print(b)\n",
    "print(c)\n",
    "print(d)"
   ]
  },
  {
   "cell_type": "code",
   "execution_count": 12,
   "metadata": {
    "colab": {
     "base_uri": "https://localhost:8080/",
     "height": 86
    },
    "colab_type": "code",
    "id": "o-2Xal8TZ1mo",
    "outputId": "4ba94040-288c-4ebb-bb08-4643bd77cfff"
   },
   "outputs": [
    {
     "name": "stdout",
     "output_type": "stream",
     "text": [
      "2\n",
      "3\n",
      "423\n",
      "43\n"
     ]
    }
   ],
   "source": [
    "#unpacking sequences\n",
    "\n",
    "tp=(2,3,423,43)\n",
    "a,b,c,d=tp\n",
    "print(a)\n",
    "print(b)\n",
    "print(c)\n",
    "print(d)"
   ]
  },
  {
   "cell_type": "code",
   "execution_count": 1,
   "metadata": {},
   "outputs": [
    {
     "name": "stdout",
     "output_type": "stream",
     "text": [
      "Enter number of elements : 3\n",
      "5\n",
      "5\n",
      "6\n",
      "[5, 5, 6]\n"
     ]
    }
   ],
   "source": [
    "# creating an empty list \n",
    "lst = [] \n",
    "  \n",
    "# number of elemetns as input \n",
    "n = int(input(\"Enter number of elements : \")) \n",
    "  \n",
    "# iterating till the range \n",
    "for i in range(0, n): \n",
    "    ele = int(input()) \n",
    "  \n",
    "    lst.append(ele) # adding the element \n",
    "      \n",
    "print(lst) "
   ]
  },
  {
   "cell_type": "code",
   "execution_count": null,
   "metadata": {},
   "outputs": [],
   "source": []
  }
 ],
 "metadata": {
  "colab": {
   "name": "week 4.ipynb",
   "provenance": []
  },
  "kernelspec": {
   "display_name": "Python 3",
   "language": "python",
   "name": "python3"
  },
  "language_info": {
   "codemirror_mode": {
    "name": "ipython",
    "version": 3
   },
   "file_extension": ".py",
   "mimetype": "text/x-python",
   "name": "python",
   "nbconvert_exporter": "python",
   "pygments_lexer": "ipython3",
   "version": "3.7.9"
  }
 },
 "nbformat": 4,
 "nbformat_minor": 1
}
