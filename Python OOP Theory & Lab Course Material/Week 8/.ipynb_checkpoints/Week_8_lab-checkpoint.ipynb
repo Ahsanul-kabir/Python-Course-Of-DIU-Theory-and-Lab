{
 "cells": [
  {
   "cell_type": "code",
   "execution_count": null,
   "metadata": {
    "colab": {},
    "colab_type": "code",
    "id": "KoOeWxGtlyAp"
   },
   "outputs": [],
   "source": [
    "#create base calss \n",
    "class Ball():\n",
    "  def __init__(self):\n",
    "    print(f'Ball created!')\n",
    "  \n",
    "  def who_am_i(self):\n",
    "    print(f'i am ball')"
   ]
  },
  {
   "cell_type": "code",
   "execution_count": null,
   "metadata": {
    "colab": {},
    "colab_type": "code",
    "id": "PxLj0Ed_mrWN"
   },
   "outputs": [],
   "source": [
    "#create a Child(football) class\n",
    "\n",
    "class Football(Ball):\n",
    "  def __init__(self):\n",
    "    #create instances of Ball\n",
    "    Ball.__init__(self)\n",
    "    print(f'football created!')"
   ]
  },
  {
   "cell_type": "code",
   "execution_count": null,
   "metadata": {
    "colab": {
     "base_uri": "https://localhost:8080/",
     "height": 54
    },
    "colab_type": "code",
    "id": "_jOJJdfCnJbY",
    "outputId": "ca6c767b-8497-4e91-e07d-157e04ff1d15"
   },
   "outputs": [
    {
     "name": "stdout",
     "output_type": "stream",
     "text": [
      "Ball created!\n",
      "football created!\n"
     ]
    }
   ],
   "source": [
    "#create object\n",
    "myFootball = Football()"
   ]
  },
  {
   "cell_type": "code",
   "execution_count": null,
   "metadata": {
    "colab": {
     "base_uri": "https://localhost:8080/",
     "height": 35
    },
    "colab_type": "code",
    "id": "Vb8n4Gs0n5wt",
    "outputId": "96e54ac2-2e40-4946-a02a-2979800e2c00"
   },
   "outputs": [
    {
     "name": "stdout",
     "output_type": "stream",
     "text": [
      "i am ball\n"
     ]
    }
   ],
   "source": [
    "#call base method\n",
    "myFootball.who_am_i()"
   ]
  },
  {
   "cell_type": "code",
   "execution_count": null,
   "metadata": {
    "colab": {},
    "colab_type": "code",
    "id": "qoDhBHQuqpaK"
   },
   "outputs": [],
   "source": [
    "#Use the super() Function\n",
    "class Football(Ball):\n",
    "  def __init__(self):\n",
    "    #create instances of Ball\n",
    "    super().__init__(self)\n",
    "    print(f'football created!')"
   ]
  },
  {
   "cell_type": "code",
   "execution_count": null,
   "metadata": {
    "colab": {
     "base_uri": "https://localhost:8080/",
     "height": 54
    },
    "colab_type": "code",
    "id": "_DUT5bbFq_zF",
    "outputId": "9c17044b-c4f4-4344-a065-6c9933b644bb"
   },
   "outputs": [
    {
     "name": "stdout",
     "output_type": "stream",
     "text": [
      "Ball created!\n",
      "football created!\n"
     ]
    }
   ],
   "source": [
    "#create object\n",
    "myFootball = Football()"
   ]
  },
  {
   "cell_type": "code",
   "execution_count": null,
   "metadata": {
    "colab": {},
    "colab_type": "code",
    "id": "4ppA3MgxoJUf"
   },
   "outputs": [],
   "source": [
    "#overriding\n",
    "class Football(Ball):\n",
    "  def __init__(self):\n",
    "    #create instances of Ball\n",
    "    Ball.__init__(self)\n",
    "    print(f'football created!')\n",
    "  #overide base class method\n",
    "  def who_am_i(self):\n",
    "    print(f'i am football!')"
   ]
  },
  {
   "cell_type": "code",
   "execution_count": null,
   "metadata": {
    "colab": {
     "base_uri": "https://localhost:8080/",
     "height": 72
    },
    "colab_type": "code",
    "id": "0T4E8m7po7bz",
    "outputId": "09f51544-f67e-408a-9868-2da7d29c13bd"
   },
   "outputs": [
    {
     "name": "stdout",
     "output_type": "stream",
     "text": [
      "Ball created!\n",
      "football created!\n",
      "i am football!\n"
     ]
    }
   ],
   "source": [
    "#create object\n",
    "myFootball = Football()\n",
    "#call overide method\n",
    "myFootball.who_am_i()"
   ]
  },
  {
   "cell_type": "code",
   "execution_count": null,
   "metadata": {
    "colab": {},
    "colab_type": "code",
    "id": "_r8d4cytpOr-"
   },
   "outputs": [],
   "source": [
    "#add new method \n",
    "#overriding\n",
    "class Football(Ball):\n",
    "  def __init__(self):\n",
    "    #create instances of Ball\n",
    "    Ball.__init__(self)\n",
    "    print(f'football created!')\n",
    "  #overide base class method\n",
    "  def who_am_i(self):\n",
    "    print(f'i am football!')\n",
    "  #new method\n",
    "  def play(self):\n",
    "    print(f'hey! i am ready for play!')"
   ]
  },
  {
   "cell_type": "code",
   "execution_count": null,
   "metadata": {
    "colab": {
     "base_uri": "https://localhost:8080/",
     "height": 72
    },
    "colab_type": "code",
    "id": "sllR7mLap6AN",
    "outputId": "6cbef550-8376-42cb-d896-f727047db5fe"
   },
   "outputs": [
    {
     "name": "stdout",
     "output_type": "stream",
     "text": [
      "Ball created!\n",
      "football created!\n",
      "hey! i am ready for play!\n"
     ]
    }
   ],
   "source": [
    "#create object\n",
    "myFootball = Football()\n",
    "#call new method\n",
    "myFootball.play()"
   ]
  },
  {
   "cell_type": "code",
   "execution_count": null,
   "metadata": {
    "colab": {},
    "colab_type": "code",
    "id": "A7TFYZlGp-5b"
   },
   "outputs": [],
   "source": []
  }
 ],
 "metadata": {
  "colab": {
   "name": "Week_8_lab.ipynb",
   "provenance": []
  },
  "kernelspec": {
   "display_name": "Python 3",
   "language": "python",
   "name": "python3"
  },
  "language_info": {
   "codemirror_mode": {
    "name": "ipython",
    "version": 3
   },
   "file_extension": ".py",
   "mimetype": "text/x-python",
   "name": "python",
   "nbconvert_exporter": "python",
   "pygments_lexer": "ipython3",
   "version": "3.7.9"
  }
 },
 "nbformat": 4,
 "nbformat_minor": 1
}
