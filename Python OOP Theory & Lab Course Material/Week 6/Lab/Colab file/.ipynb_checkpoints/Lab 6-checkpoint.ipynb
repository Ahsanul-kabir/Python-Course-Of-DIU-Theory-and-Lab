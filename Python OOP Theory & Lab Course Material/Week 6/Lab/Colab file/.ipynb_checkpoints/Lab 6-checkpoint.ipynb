{
 "cells": [
  {
   "cell_type": "markdown",
   "metadata": {
    "colab_type": "text",
    "id": "gWRLBROOvmVT"
   },
   "source": [
    "#Create a Dictionary\n",
    "using `dict()` or `{}` "
   ]
  },
  {
   "cell_type": "code",
   "execution_count": null,
   "metadata": {
    "colab": {},
    "colab_type": "code",
    "id": "zaZbzCm3uNV_"
   },
   "outputs": [],
   "source": [
    "city = dict()\n",
    "city"
   ]
  },
  {
   "cell_type": "code",
   "execution_count": null,
   "metadata": {
    "colab": {},
    "colab_type": "code",
    "id": "BYsbYTSevsEP"
   },
   "outputs": [],
   "source": [
    "city"
   ]
  },
  {
   "cell_type": "code",
   "execution_count": null,
   "metadata": {
    "colab": {},
    "colab_type": "code",
    "id": "QpID9cvRvzoF"
   },
   "outputs": [],
   "source": [
    "city['Dhanmondi'] = 1205"
   ]
  },
  {
   "cell_type": "code",
   "execution_count": null,
   "metadata": {
    "colab": {},
    "colab_type": "code",
    "id": "1La140wpwM2m"
   },
   "outputs": [],
   "source": [
    "city['Cantonment'] = 1206"
   ]
  },
  {
   "cell_type": "code",
   "execution_count": null,
   "metadata": {
    "colab": {},
    "colab_type": "code",
    "id": "dIq2kt1XwPFU"
   },
   "outputs": [],
   "source": [
    "city"
   ]
  },
  {
   "cell_type": "code",
   "execution_count": null,
   "metadata": {
    "colab": {},
    "colab_type": "code",
    "id": "0ISxlLeuwQAD"
   },
   "outputs": [],
   "source": [
    "# Determining if a Dictionary Is Empty or not\n",
    "len(city)"
   ]
  },
  {
   "cell_type": "code",
   "execution_count": null,
   "metadata": {
    "colab": {},
    "colab_type": "code",
    "id": "HUlIjd5wwZKr"
   },
   "outputs": [],
   "source": [
    "# Another way\n",
    "# Determining if a Dictionary Is Empty or not\n",
    "if city:\n",
    "  print('not empty')\n",
    "else:\n",
    "  print('empty')"
   ]
  },
  {
   "cell_type": "markdown",
   "metadata": {
    "colab_type": "text",
    "id": "pbMa-FcbxX5b"
   },
   "source": [
    "Homework - *If want to empty a dictionary then use `.clear()` method*"
   ]
  },
  {
   "cell_type": "markdown",
   "metadata": {
    "colab_type": "text",
    "id": "lx5hu7RVw6HL"
   },
   "source": [
    "## *Self-check* \n",
    "True/False - Are Dictionaries may contain duplicate keys ??"
   ]
  },
  {
   "cell_type": "code",
   "execution_count": null,
   "metadata": {
    "colab": {},
    "colab_type": "code",
    "id": "gDWm_jwTwq-S"
   },
   "outputs": [],
   "source": [
    "# Remember indexing isn't work \n",
    "city[0]"
   ]
  },
  {
   "cell_type": "markdown",
   "metadata": {
    "colab_type": "text",
    "id": "BK7DSUNuyFc0"
   },
   "source": [
    "Iterate a **dictionary** "
   ]
  },
  {
   "cell_type": "code",
   "execution_count": null,
   "metadata": {
    "colab": {},
    "colab_type": "code",
    "id": "XG3CwZU1xR2K"
   },
   "outputs": [],
   "source": [
    "print(city)\n",
    "for area, code in city.items():\n",
    "  print(f'{area}’s area code is {code}')"
   ]
  },
  {
   "cell_type": "markdown",
   "metadata": {
    "colab_type": "text",
    "id": "B0FVk9KB0GeN"
   },
   "source": [
    "## Dictionary operations"
   ]
  },
  {
   "cell_type": "code",
   "execution_count": null,
   "metadata": {
    "colab": {},
    "colab_type": "code",
    "id": "xpo-MBuFyM5u"
   },
   "outputs": [],
   "source": [
    "# Accessing a value \n",
    "city[\"Cantonment\"]"
   ]
  },
  {
   "cell_type": "code",
   "execution_count": null,
   "metadata": {
    "colab": {},
    "colab_type": "code",
    "id": "_p85jBSWyb82"
   },
   "outputs": [],
   "source": [
    "# Update a value\n",
    "city['Cantonment'] = 1202\n",
    "# print to check\n",
    "city"
   ]
  },
  {
   "cell_type": "code",
   "execution_count": null,
   "metadata": {
    "colab": {},
    "colab_type": "code",
    "id": "bax4P8mR1Oo8"
   },
   "outputs": [],
   "source": [
    "# updating/insert both key-value respectively\n",
    "city.update({'Mohammadpur':1207})\n",
    "# print\n",
    "city"
   ]
  },
  {
   "cell_type": "code",
   "execution_count": null,
   "metadata": {
    "colab": {},
    "colab_type": "code",
    "id": "ersvcKLu2BLy"
   },
   "outputs": [],
   "source": [
    "city.update({'Mohammadpur Housing':\t1207})\n",
    "city"
   ]
  },
  {
   "cell_type": "markdown",
   "metadata": {
    "colab_type": "text",
    "id": "mP3ZBUDc2OeN"
   },
   "source": [
    "Magic ? ? "
   ]
  },
  {
   "cell_type": "code",
   "execution_count": null,
   "metadata": {
    "colab": {},
    "colab_type": "code",
    "id": "VbEMF6tq2VQv"
   },
   "outputs": [],
   "source": [
    "city.update({'Mohammadpur': 1208})\n",
    "city"
   ]
  },
  {
   "cell_type": "markdown",
   "metadata": {
    "colab_type": "text",
    "id": "Jd0i5yjC2mwk"
   },
   "source": [
    "hurrah ! working ~~~"
   ]
  },
  {
   "cell_type": "code",
   "execution_count": null,
   "metadata": {
    "colab": {},
    "colab_type": "code",
    "id": "fEmPYGjKynUP"
   },
   "outputs": [],
   "source": [
    "# Adding a new key-value pair\n",
    "city['Mirpur'] = 1212\n",
    "# print to check\n",
    "city"
   ]
  },
  {
   "cell_type": "code",
   "execution_count": null,
   "metadata": {
    "colab": {},
    "colab_type": "code",
    "id": "xuKqNDd2y1eV"
   },
   "outputs": [],
   "source": [
    "# remove a key-value pair\n",
    "del city['Cantonment']\n",
    "# print\n",
    "city"
   ]
  },
  {
   "cell_type": "markdown",
   "metadata": {
    "colab_type": "text",
    "id": "SwXfabJLzIXq"
   },
   "source": [
    "Homework - *remove also work in another method `.pop(key_name)`*"
   ]
  },
  {
   "cell_type": "markdown",
   "metadata": {
    "colab_type": "text",
    "id": "b0R1pVjVz0cW"
   },
   "source": [
    "## Compare two dictionaries\n"
   ]
  },
  {
   "cell_type": "code",
   "execution_count": null,
   "metadata": {
    "colab": {},
    "colab_type": "code",
    "id": "xeuK7GbCzDvg"
   },
   "outputs": [],
   "source": [
    "country_capitals1 = {'Belgium': 'Brussels','Haiti': 'Port-au-Prince'}\n",
    "country_capitals2 = {'Nepal': 'Kathmandu', 'Uruguay': 'Montevideo'}"
   ]
  },
  {
   "cell_type": "code",
   "execution_count": null,
   "metadata": {
    "colab": {},
    "colab_type": "code",
    "id": "DLd52zmWz4eI"
   },
   "outputs": [],
   "source": [
    "country_capitals1 == country_capitals2"
   ]
  },
  {
   "cell_type": "code",
   "execution_count": null,
   "metadata": {
    "colab": {},
    "colab_type": "code",
    "id": "l-ixSKUrz5N6"
   },
   "outputs": [],
   "source": [
    " country_capitals3 = {'Haiti': 'Port-au-Prince', 'Belgium': 'Brussels'}"
   ]
  },
  {
   "cell_type": "code",
   "execution_count": null,
   "metadata": {
    "colab": {},
    "colab_type": "code",
    "id": "hppLYbLU0Bgq"
   },
   "outputs": [],
   "source": [
    "country_capitals1 == country_capitals3"
   ]
  },
  {
   "cell_type": "markdown",
   "metadata": {
    "colab_type": "text",
    "id": "gjC-muCfT_Mg"
   },
   "source": [
    "# Set"
   ]
  },
  {
   "cell_type": "code",
   "execution_count": null,
   "metadata": {
    "colab": {},
    "colab_type": "code",
    "id": "MAXw-moh0CCi"
   },
   "outputs": [],
   "source": [
    "colors = {'red', 'orange', 'yellow', 'green', 'red', 'blue'}\n",
    "colors"
   ]
  },
  {
   "cell_type": "markdown",
   "metadata": {
    "colab_type": "text",
    "id": "zloY-0dQ3DNy"
   },
   "source": [
    "oho - set is already sorted "
   ]
  },
  {
   "cell_type": "code",
   "execution_count": null,
   "metadata": {
    "colab": {},
    "colab_type": "code",
    "id": "elvKqfKN3PLN"
   },
   "outputs": [],
   "source": [
    "len(colors)"
   ]
  },
  {
   "cell_type": "code",
   "execution_count": null,
   "metadata": {
    "colab": {},
    "colab_type": "code",
    "id": "iUbYiN7x3Afw"
   },
   "outputs": [],
   "source": [
    "'red' in colors"
   ]
  },
  {
   "cell_type": "code",
   "execution_count": null,
   "metadata": {
    "colab": {},
    "colab_type": "code",
    "id": "AQODOcbp3WPh"
   },
   "outputs": [],
   "source": [
    "'purple' in colors"
   ]
  },
  {
   "cell_type": "markdown",
   "metadata": {
    "colab_type": "text",
    "id": "4ktSFKpAbXR1"
   },
   "source": [
    "`.upper()` used for uppercase all charachters/letters"
   ]
  },
  {
   "cell_type": "code",
   "execution_count": null,
   "metadata": {
    "colab": {},
    "colab_type": "code",
    "id": "udQNQKSS3OIw"
   },
   "outputs": [],
   "source": [
    "for color in colors:\n",
    "  print(color.upper(), end=' ')"
   ]
  },
  {
   "cell_type": "markdown",
   "metadata": {
    "colab_type": "text",
    "id": "zzpjF9sRaVrZ"
   },
   "source": [
    "### Set methods"
   ]
  },
  {
   "cell_type": "code",
   "execution_count": null,
   "metadata": {
    "colab": {},
    "colab_type": "code",
    "id": "3rBjipkmZifJ"
   },
   "outputs": [],
   "source": [
    "numbers = {0, 1, 2, 3, 4, 5, 6, 7, 8, 9}"
   ]
  },
  {
   "cell_type": "code",
   "execution_count": null,
   "metadata": {
    "colab": {},
    "colab_type": "code",
    "id": "-oMCoA5RaBtg"
   },
   "outputs": [],
   "source": [
    "numbers"
   ]
  },
  {
   "cell_type": "code",
   "execution_count": null,
   "metadata": {
    "colab": {},
    "colab_type": "code",
    "id": "betXHVGzZ9c0"
   },
   "outputs": [],
   "source": [
    "# Add element\n",
    "numbers.add(17)"
   ]
  },
  {
   "cell_type": "code",
   "execution_count": null,
   "metadata": {
    "colab": {},
    "colab_type": "code",
    "id": "_sSozTGVaBIw"
   },
   "outputs": [],
   "source": [
    "numbers.add(3)"
   ]
  },
  {
   "cell_type": "code",
   "execution_count": null,
   "metadata": {
    "colab": {},
    "colab_type": "code",
    "id": "Q623bre9aGVT"
   },
   "outputs": [],
   "source": [
    "# Remove specific element\n",
    "numbers.remove(3)\n",
    "numbers"
   ]
  },
  {
   "cell_type": "code",
   "execution_count": null,
   "metadata": {
    "colab": {},
    "colab_type": "code",
    "id": "dO9SxHlZaLm8"
   },
   "outputs": [],
   "source": [
    "# Remove first element\n",
    "numbers.pop()\n",
    "numbers"
   ]
  },
  {
   "cell_type": "code",
   "execution_count": null,
   "metadata": {
    "colab": {},
    "colab_type": "code",
    "id": "V8C-GEToaN1K"
   },
   "outputs": [],
   "source": [
    "# Empty set \n",
    "numbers.clear()\n",
    "# return an empty set\n",
    "numbers"
   ]
  },
  {
   "cell_type": "markdown",
   "metadata": {
    "colab_type": "text",
    "id": "L0luCOzIX49h"
   },
   "source": [
    "## Comparing sets"
   ]
  },
  {
   "cell_type": "code",
   "execution_count": null,
   "metadata": {
    "colab": {},
    "colab_type": "code",
    "id": "xAgfR6Py3Xzg"
   },
   "outputs": [],
   "source": [
    "{1, 3, 5} == {3, 5, 1}"
   ]
  },
  {
   "cell_type": "code",
   "execution_count": null,
   "metadata": {
    "colab": {},
    "colab_type": "code",
    "id": "rYYeqmNdUE7U"
   },
   "outputs": [],
   "source": [
    "{1, 3, 5} != {3, 5, 1}"
   ]
  },
  {
   "cell_type": "code",
   "execution_count": null,
   "metadata": {
    "colab": {},
    "colab_type": "code",
    "id": "FQAkTMQ_XoXk"
   },
   "outputs": [],
   "source": [
    "{1, 3, 5}.issubset({3, 5, 1})"
   ]
  },
  {
   "cell_type": "code",
   "execution_count": null,
   "metadata": {
    "colab": {},
    "colab_type": "code",
    "id": "d2mpSb3OXrwO"
   },
   "outputs": [],
   "source": [
    "{1, 2}.issubset({3, 5, 1})"
   ]
  },
  {
   "cell_type": "code",
   "execution_count": null,
   "metadata": {
    "colab": {},
    "colab_type": "code",
    "id": "-9aPZT3VXvtE"
   },
   "outputs": [],
   "source": [
    "{1, 3, 5}.issuperset({3, 5, 1})"
   ]
  },
  {
   "cell_type": "code",
   "execution_count": null,
   "metadata": {
    "colab": {},
    "colab_type": "code",
    "id": "0yuW3MOHXzda"
   },
   "outputs": [],
   "source": [
    "{1, 3, 5}.issuperset({3, 2})"
   ]
  },
  {
   "cell_type": "markdown",
   "metadata": {
    "colab_type": "text",
    "id": "7XEKW51TYAvI"
   },
   "source": [
    "### Union\n",
    "The union of two sets is a set consisting of all the unique elements from both sets. You can calculate the union with the | operator or with the set type’s `union` method:"
   ]
  },
  {
   "cell_type": "code",
   "execution_count": null,
   "metadata": {
    "colab": {},
    "colab_type": "code",
    "id": "oW16GQHlYKFk"
   },
   "outputs": [],
   "source": [
    "{1, 3, 5} | {2, 3, 4}"
   ]
  },
  {
   "cell_type": "code",
   "execution_count": null,
   "metadata": {
    "colab": {},
    "colab_type": "code",
    "id": "pF_yCy6aYOjk"
   },
   "outputs": [],
   "source": [
    "{1, 3, 5}.union([20, 20, 3, 40, 40])"
   ]
  },
  {
   "cell_type": "markdown",
   "metadata": {
    "colab_type": "text",
    "id": "p6ktymCoYU4C"
   },
   "source": [
    "### Intersection\n",
    "The intersection of two sets is a set consisting of all the unique elements that the two sets\n",
    "have in common. You can calculate the intersection with the & operator or with the set\n",
    "type’s `intersection` method"
   ]
  },
  {
   "cell_type": "code",
   "execution_count": null,
   "metadata": {
    "colab": {},
    "colab_type": "code",
    "id": "___0_7eNYXn7"
   },
   "outputs": [],
   "source": [
    "{1, 3, 5} & {2, 3, 4}"
   ]
  },
  {
   "cell_type": "code",
   "execution_count": null,
   "metadata": {
    "colab": {},
    "colab_type": "code",
    "id": "Lr4Eq4ybZA94"
   },
   "outputs": [],
   "source": [
    "{1, 3, 5}.intersection([1, 2, 2, 3, 3, 4, 4])"
   ]
  },
  {
   "cell_type": "markdown",
   "metadata": {
    "colab_type": "text",
    "id": "evwQyo2KYg38"
   },
   "source": [
    "### Difference\n",
    "The difference between two sets is a set consisting of the elements in the left operand that\n",
    "are not in the right operand. You can calculate the difference with the - operator or with\n",
    "the set type’s `difference` method:"
   ]
  },
  {
   "cell_type": "code",
   "execution_count": null,
   "metadata": {
    "colab": {},
    "colab_type": "code",
    "id": "4LSyVbwZYhfV"
   },
   "outputs": [],
   "source": [
    "{1, 3, 5} - {2, 3, 4}"
   ]
  },
  {
   "cell_type": "code",
   "execution_count": null,
   "metadata": {
    "colab": {},
    "colab_type": "code",
    "id": "ElGbiClQZJpq"
   },
   "outputs": [],
   "source": [
    "{1, 3, 5, 7}.difference([2, 2, 3, 3, 4, 4])"
   ]
  },
  {
   "cell_type": "markdown",
   "metadata": {
    "colab_type": "text",
    "id": "xPVAiErJYrXV"
   },
   "source": [
    "### Disjoint\n",
    "Two sets are disjoint if they do not have any common elements. You can determine this\n",
    "with the set type’s `isdisjoint` method:"
   ]
  },
  {
   "cell_type": "code",
   "execution_count": null,
   "metadata": {
    "colab": {},
    "colab_type": "code",
    "id": "sgm2gCTBYtlE"
   },
   "outputs": [],
   "source": [
    "{1, 3, 5}.isdisjoint({2, 4, 6})"
   ]
  },
  {
   "cell_type": "code",
   "execution_count": null,
   "metadata": {
    "colab": {},
    "colab_type": "code",
    "id": "sJbpf47vZR7u"
   },
   "outputs": [],
   "source": [
    "{1, 3, 5}.isdisjoint({4, 6, 1})"
   ]
  }
 ],
 "metadata": {
  "colab": {
   "authorship_tag": "ABX9TyPcSzzDnh9Mfth7q/FAYVU2",
   "name": "Lab 6.ipynb",
   "private_outputs": true,
   "provenance": []
  },
  "kernelspec": {
   "display_name": "Python 3",
   "language": "python",
   "name": "python3"
  },
  "language_info": {
   "codemirror_mode": {
    "name": "ipython",
    "version": 3
   },
   "file_extension": ".py",
   "mimetype": "text/x-python",
   "name": "python",
   "nbconvert_exporter": "python",
   "pygments_lexer": "ipython3",
   "version": "3.7.9"
  }
 },
 "nbformat": 4,
 "nbformat_minor": 1
}
